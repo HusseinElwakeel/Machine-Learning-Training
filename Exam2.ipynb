{
  "nbformat": 4,
  "nbformat_minor": 0,
  "metadata": {
    "colab": {
      "name": "Copy of Copy of Exam2.ipynb",
      "provenance": [],
      "include_colab_link": true
    },
    "kernelspec": {
      "name": "python3",
      "display_name": "Python 3"
    },
    "language_info": {
      "name": "python"
    }
  },
  "cells": [
    {
      "cell_type": "markdown",
      "metadata": {
        "id": "view-in-github",
        "colab_type": "text"
      },
      "source": [
        "<a href=\"https://colab.research.google.com/github/HusseinElwakeel/Machine-Learning-Training/blob/main/Exam2.ipynb\" target=\"_parent\"><img src=\"https://colab.research.google.com/assets/colab-badge.svg\" alt=\"Open In Colab\"/></a>"
      ]
    },
    {
      "cell_type": "markdown",
      "metadata": {
        "id": "5wXGR30b9re6"
      },
      "source": [
        "# Question 1\n",
        "Write a program that asks the user to enter the amount that he or she has budgeted for a month. A loop should then prompt the user to enter each of his or her expenses for the month and keep a running total. When the loop finishes, the program should display the amount that the user is over or under budget."
      ]
    },
    {
      "cell_type": "code",
      "metadata": {
        "id": "VqHLKlqN9orp",
        "colab": {
          "base_uri": "https://localhost:8080/",
          "height": 284
        },
        "outputId": "888806d3-566e-4f46-8d14-a38198bba21f"
      },
      "source": [
        "expense = 0.0\n",
        "budget = 0.0\n",
        "difference = 0.0\n",
        "expenseTotal = 0.0\n",
        "\n",
        "total_expense = 0\n",
        "keep_going = 'y'\n",
        "\n",
        "budget = float(input(\"What is your budget for the month?\"))\n",
        "print(\"Please begin entering the amounts of each of your monthly expenses:\")\n",
        "\n",
        "while keep_going == 'y':\n",
        "    expense = float(input(\"Monthly expense amount? $\"))\n",
        "\n",
        "    total_expense = total_expense + expense\n",
        "    keep_going = input(\"Do you have any other expenses? (Enter y for yes.)\")\n",
        "\n",
        "\n",
        "if expense < budget:\n",
        "    difference = budget - expense\n",
        "    print(\"You were $\", difference, \" under budget.\")\n",
        "\n",
        "elif expense > budget:\n",
        "    difference = expense - budget\n",
        "    print(\"You were $\", difference, \" over budget.\")\n",
        "\n",
        "else:\n",
        "    print(\"You were right on budget. Great Job!!!\")\n",
        "\n",
        "\n",
        "input(\"Press enter to exit.\")"
      ],
      "execution_count": null,
      "outputs": [
        {
          "output_type": "stream",
          "text": [
            "What is your budget for the month?3000\n",
            "Please begin entering the amounts of each of your monthly expenses:\n",
            "Monthly expense amount? $4000\n",
            "Do you have any other expenses? (Enter y for yes.)y\n",
            "Monthly expense amount? $500\n",
            "Do you have any other expenses? (Enter y for yes.)y\n",
            "Monthly expense amount? $700\n",
            "Do you have any other expenses? (Enter y for yes.)y\n",
            "Monthly expense amount? $800\n",
            "Do you have any other expenses? (Enter y for yes.)y\n",
            "Monthly expense amount? $900\n",
            "Do you have any other expenses? (Enter y for yes.)no\n",
            "You were $ 2100.0  under budget.\n",
            "Press enter to exit.\n"
          ],
          "name": "stdout"
        },
        {
          "output_type": "execute_result",
          "data": {
            "application/vnd.google.colaboratory.intrinsic+json": {
              "type": "string"
            },
            "text/plain": [
              "''"
            ]
          },
          "metadata": {
            "tags": []
          },
          "execution_count": 1
        }
      ]
    },
    {
      "cell_type": "markdown",
      "metadata": {
        "id": "kGBuj9Rk-veL"
      },
      "source": [
        "# Question 2 \n",
        "Write a function named max that accepts two integer values as arguments and returns the\n",
        "value that is the greater of the two. For example, if 7 and 12 are passed as arguments to\n",
        "the function, the function should return 12. Use the function in a program that prompts the\n",
        "user to enter two integer values. The program should display the value that is the greater\n",
        "of the two."
      ]
    },
    {
      "cell_type": "code",
      "metadata": {
        "id": "3psMKiEQ-m6k",
        "colab": {
          "base_uri": "https://localhost:8080/"
        },
        "outputId": "9b0164ac-1a8f-470e-e106-993f150216d3"
      },
      "source": [
        "number1=int(input(\"please enter number one : \"))\n",
        "number2=int(input(\"please enter number two : \"))\n",
        "\n",
        "def max(number1,number2) :\n",
        "    if number1 >number2:\n",
        "        print(\"the max number of two numbers is : \",number1)\n",
        "    elif number2>number1:\n",
        "        print(\"the max number of two numbers is : \",number2)\n",
        "    else :\n",
        "        print(\"plese enter two integer numbers ,the program end .\")\n",
        "print(max(number1,number2))"
      ],
      "execution_count": null,
      "outputs": [
        {
          "output_type": "stream",
          "text": [
            "please enter number one : 60\n",
            "please enter number two : 50\n",
            "the max number of two numbers is :  60\n",
            "None\n"
          ],
          "name": "stdout"
        }
      ]
    },
    {
      "cell_type": "markdown",
      "metadata": {
        "id": "2QJ4_LYe_QyM"
      },
      "source": [
        "# Question 3\n",
        "Write a program that asks the user for the name of a file. The program should display the\n",
        "contents of the file with each line preceded with a line number followed by a colon. The\n",
        "line numbering should start at 1."
      ]
    },
    {
      "cell_type": "code",
      "metadata": {
        "id": "z_9PEjmp_P7c",
        "colab": {
          "base_uri": "https://localhost:8080/"
        },
        "outputId": "54a3fbc2-3cae-4c1e-a6f6-f47b00eb05b5"
      },
      "source": [
        "filename = input(\"Enter file name: \")\n",
        "\n",
        "try:\n",
        "    with open(filename, 'e') as f, open(\"ln_\"+filename, 'h') as h:\n",
        "        count = 1\n",
        "        for line in f:\n",
        "            h.write(str(count) + ': ' + line)\n",
        "            count += 1\n",
        "except:\n",
        "    print(\"Error. Failed to read from \" + filename)"
      ],
      "execution_count": null,
      "outputs": [
        {
          "output_type": "stream",
          "text": [
            "Enter file name: h\n",
            "Error. Failed to read from h\n"
          ],
          "name": "stdout"
        }
      ]
    },
    {
      "cell_type": "markdown",
      "metadata": {
        "id": "mWPrmdWDAHJK"
      },
      "source": [
        "# Question 4\n",
        "Write a program that reads a string from the user containing a date in the form mm/dd/yyyy. It should print the date in the form March 12, 2014."
      ]
    },
    {
      "cell_type": "code",
      "metadata": {
        "id": "7o6o25d6AMDj",
        "colab": {
          "base_uri": "https://localhost:8080/"
        },
        "outputId": "3b28db52-b856-4840-ecee-1f18791ac0be"
      },
      "source": [
        "# date=input('Enter a date(mm/dd/yyy)')\n",
        "# replace=date.replace('/',' ')\n",
        "# convert=replace.split()\n",
        "# day=convert[1:2]\n",
        "# year=convert[2:4]\n",
        "# for ch in convert:\n",
        "#     if ch[:2]=='01':\n",
        "#         print('January ',day,year )\n",
        "##########################################\n",
        "from datetime import datetime\n",
        "d = input('Enter a date(mm/dd/yyy)')\n",
        "\n",
        "# now convert the string into datetime object given the pattern\n",
        "d = datetime.strptime(d, \"%m/%d/%Y\")\n",
        "\n",
        "# print the datetime in any format you wish.\n",
        "print (d.strftime(\"%B , %d, %Y\") )"
      ],
      "execution_count": null,
      "outputs": [
        {
          "output_type": "stream",
          "text": [
            "Enter a date(mm/dd/yyy)12/1/2014\n",
            "December , 01, 2014\n"
          ],
          "name": "stdout"
        }
      ]
    },
    {
      "cell_type": "markdown",
      "metadata": {
        "id": "jSxraWwFqJ6b"
      },
      "source": [
        "# Question 5\n",
        "Write a class named Person with data attributes for a person’s name, address, and telephone number. Next, write a class named Customer that is a subclass of the Person class.\n",
        "The Customer class should have a data attribute for a customer number and a Boolean\n",
        "data attribute indicating whether the customer wishes to be on a mailing list. Demonstrate\n",
        "an instance of the Customer class in a simple program."
      ]
    },
    {
      "cell_type": "code",
      "metadata": {
        "id": "s5A4itpdA2K0"
      },
      "source": [
        "\n",
        "\n",
        "class Person:\n",
        "    def __init__(self, name, address, telephone, email):\n",
        "        self.__name = name\n",
        "        self.__address = address\n",
        "        self.__telephone = telephone\n",
        "        self.__email = email\n",
        "\n",
        "    def set_name(self, name):\n",
        "        self.__name = name\n",
        "\n",
        "    def set_address(self, address):\n",
        "        self.__address = address\n",
        "\n",
        "    def set_telephone(self, telephone):\n",
        "        self.__telephone = telephone\n",
        "\n",
        "    def set_email(self, email):\n",
        "        self.__email = email\n",
        "\n",
        "    def get_name(self):\n",
        "        return self.__name\n",
        "\n",
        "    def get_address(self):\n",
        "        return self.__address\n",
        "\n",
        "    def get_telephone(self):\n",
        "        return self.__telephone\n",
        "\n",
        "    def get_email(self):\n",
        "        return self.__email\n"
      ],
      "execution_count": null,
      "outputs": []
    },
    {
      "cell_type": "code",
      "metadata": {
        "id": "qKvP8vi_whmA"
      },
      "source": [
        "\n",
        "\n",
        "!pip install Person  \n",
        "   import Person\n",
        "\n",
        "class Customer(Person.Person):\n",
        "    def __init__(self, name, address, telephone, email):\n",
        "        Person.Person.__init__(self, mail, number)\n",
        "        self.mailing = 'Y'== True\n",
        "        self.__mail = mail\n",
        "        self.__number = number\n",
        "\n",
        "    def set_mail(self, mail):\n",
        "        self.__mail = mail\n",
        "\n",
        "    def set_number(self, number):\n",
        "        self.__number = number\n",
        "\n",
        "    def get_mail(self):\n",
        "        return self.__mail\n",
        "\n",
        "    def get_number(self):\n",
        "        return self.__number\n",
        "\n",
        "    def mailList(self, mail):\n",
        "        if mailing == True:\n",
        "            return\"On the mailing list\"\n",
        "        else:\n",
        "            return\"Not on the mailing list\"\n",
        "\n",
        "    def __str__(self):\n",
        "        return \"\\nName: {}\\nAddress: {}\\ntelephone: {}\\nEmail: {}\\nMail: {}\\nNumber: {}\".\\\n",
        "            format(self.get_name(), self.get_address(),\\\n",
        "                   self.get_telephone(), self.get_email()\\\n",
        "                   , self.mailList(self.get_mail()),self.get_number())\n"
      ],
      "execution_count": null,
      "outputs": []
    },
    {
      "cell_type": "markdown",
      "metadata": {
        "id": "Psab1ArBA2Yp"
      },
      "source": [
        "Once You finish Fill the Form: https://docs.google.com/forms/d/e/1FAIpQLSeu1EmFSSURi7TYZ7LvNQREvDEeGue6enxF2j_wy2mNU-q2xw/viewform?usp=sf_link"
      ]
    }
  ]
}